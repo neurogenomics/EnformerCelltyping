{
 "cells": [
  {
   "cell_type": "markdown",
   "id": "e6472bf3",
   "metadata": {},
   "source": [
    "## Training Demo Enformer Celltyping\n",
    "\n",
    "This workbook steps through training Enformer Celltyping using the small subset of data available in the repo."
   ]
  },
  {
   "cell_type": "markdown",
   "id": "b2224c42",
   "metadata": {},
   "source": [
    "## Step 1 Create pre-trained enformer model \n",
    "\n",
    "The enformer model available from tensorflow hub needs to be downloaded, the weights\n",
    "lifted and added to a recreated enformer model with the final layers after the attention\n",
    "layers removed."
   ]
  },
  {
   "cell_type": "code",
   "execution_count": 1,
   "id": "71bdda4c",
   "metadata": {},
   "outputs": [
    {
     "name": "stderr",
     "output_type": "stream",
     "text": [
      "2023-02-02 14:49:38.087627: I tensorflow/stream_executor/platform/default/dso_loader.cc:53] Successfully opened dynamic library libcudart.so.11.0\n"
     ]
    }
   ],
   "source": [
    "#enformer imports\n",
    "import tensorflow as tf\n",
    "from EnformerCelltyping.utils import(gelu, create_enf_model, \n",
    "                                     pearsonR)\n",
    "\n"
   ]
  },
  {
   "cell_type": "code",
   "execution_count": 2,
   "id": "848f720e",
   "metadata": {},
   "outputs": [
    {
     "ename": "OSError",
     "evalue": "SavedModel file does not exist at: /home/aemurphy/RDS/project/celltypeai/live/Projects/EnformerCelltyping/data/enformer_model/{saved_model.pbtxt|saved_model.pb}",
     "output_type": "error",
     "traceback": [
      "\u001b[0;31m---------------------------------------------------------------------------\u001b[0m",
      "\u001b[0;31mOSError\u001b[0m                                   Traceback (most recent call last)",
      "Cell \u001b[0;32mIn[2], line 3\u001b[0m\n\u001b[1;32m      1\u001b[0m \u001b[38;5;28;01mfrom\u001b[39;00m \u001b[38;5;21;01mEnformerCelltyping\u001b[39;00m\u001b[38;5;21;01m.\u001b[39;00m\u001b[38;5;21;01mconstants\u001b[39;00m \u001b[38;5;28;01mimport\u001b[39;00m DATA_PATH\n\u001b[1;32m      2\u001b[0m \u001b[38;5;28;01mfrom\u001b[39;00m \u001b[38;5;21;01mEnformerCelltyping\u001b[39;00m\u001b[38;5;21;01m.\u001b[39;00m\u001b[38;5;21;01mutils\u001b[39;00m \u001b[38;5;28;01mimport\u001b[39;00m create_enf_chopped_model\n\u001b[0;32m----> 3\u001b[0m enf \u001b[38;5;241m=\u001b[39m \u001b[43mcreate_enf_chopped_model\u001b[49m\u001b[43m(\u001b[49m\u001b[38;5;28;43mstr\u001b[39;49m\u001b[43m(\u001b[49m\u001b[43mDATA_PATH\u001b[49m\u001b[43m \u001b[49m\u001b[38;5;241;43m/\u001b[39;49m\u001b[43m \u001b[49m\u001b[38;5;124;43m\"\u001b[39;49m\u001b[38;5;124;43menformer_model\u001b[39;49m\u001b[38;5;124;43m\"\u001b[39;49m\u001b[43m)\u001b[49m\u001b[43m)\u001b[49m\n",
      "File \u001b[0;32m~/RDS/project/celltypeai/live/Projects/EnformerCelltyping/EnformerCelltyping/utils.py:339\u001b[0m, in \u001b[0;36mcreate_enf_chopped_model\u001b[0;34m(path)\u001b[0m\n\u001b[1;32m    319\u001b[0m \u001b[38;5;28;01mdef\u001b[39;00m \u001b[38;5;21mcreate_enf_chopped_model\u001b[39m(path: \u001b[38;5;28mstr\u001b[39m):\n\u001b[1;32m    320\u001b[0m \u001b[38;5;250m    \u001b[39m\u001b[38;5;124;03m\"\"\"\u001b[39;00m\n\u001b[1;32m    321\u001b[0m \u001b[38;5;124;03m    Lift weights from pre-trained Enformer model available in tf.hub\u001b[39;00m\n\u001b[1;32m    322\u001b[0m \u001b[38;5;124;03m    and move to chopped version of Enformer model which has below \u001b[39;00m\n\u001b[0;32m   (...)\u001b[0m\n\u001b[1;32m    336\u001b[0m \u001b[38;5;124;03m        Path to enformer model scripts.\u001b[39;00m\n\u001b[1;32m    337\u001b[0m \u001b[38;5;124;03m    \"\"\"\u001b[39;00m\n\u001b[0;32m--> 339\u001b[0m     loader \u001b[38;5;241m=\u001b[39m \u001b[43m_get_loader\u001b[49m\u001b[43m(\u001b[49m\u001b[43mpath\u001b[49m\u001b[43m)\u001b[49m\n\u001b[1;32m    340\u001b[0m     variable_nodes \u001b[38;5;241m=\u001b[39m [n \u001b[38;5;28;01mfor\u001b[39;00m n \u001b[38;5;129;01min\u001b[39;00m loader\u001b[38;5;241m.\u001b[39m_nodes \u001b[38;5;28;01mif\u001b[39;00m \u001b[38;5;28misinstance\u001b[39m(n,tf\u001b[38;5;241m.\u001b[39mVariable)]\n\u001b[1;32m    341\u001b[0m     \u001b[38;5;66;03m#first one isn't a tf.Variable from the model, remove it\u001b[39;00m\n",
      "File \u001b[0;32m~/RDS/project/celltypeai/live/Projects/EnformerCelltyping/EnformerCelltyping/utils.py:88\u001b[0m, in \u001b[0;36m_get_loader\u001b[0;34m(export_dir, tags, options)\u001b[0m\n\u001b[1;32m     83\u001b[0m \u001b[38;5;28;01mif\u001b[39;00m tags \u001b[38;5;129;01mis\u001b[39;00m \u001b[38;5;129;01mnot\u001b[39;00m \u001b[38;5;28;01mNone\u001b[39;00m \u001b[38;5;129;01mand\u001b[39;00m \u001b[38;5;129;01mnot\u001b[39;00m \u001b[38;5;28misinstance\u001b[39m(tags, \u001b[38;5;28mset\u001b[39m):\n\u001b[1;32m     84\u001b[0m   \u001b[38;5;66;03m# Supports e.g. tags=SERVING and tags=[SERVING]. Sets aren't considered\u001b[39;00m\n\u001b[1;32m     85\u001b[0m   \u001b[38;5;66;03m# sequences for nest.flatten, so we put those through as-is.\u001b[39;00m\n\u001b[1;32m     86\u001b[0m   tags \u001b[38;5;241m=\u001b[39m nest\u001b[38;5;241m.\u001b[39mflatten(tags)\n\u001b[1;32m     87\u001b[0m saved_model_proto, debug_info \u001b[38;5;241m=\u001b[39m (\n\u001b[0;32m---> 88\u001b[0m     \u001b[43mloader_impl\u001b[49m\u001b[38;5;241;43m.\u001b[39;49m\u001b[43mparse_saved_model_with_debug_info\u001b[49m\u001b[43m(\u001b[49m\u001b[43mexport_dir\u001b[49m\u001b[43m)\u001b[49m)\n\u001b[1;32m     90\u001b[0m \u001b[38;5;28;01mif\u001b[39;00m (\u001b[38;5;28mlen\u001b[39m(saved_model_proto\u001b[38;5;241m.\u001b[39mmeta_graphs) \u001b[38;5;241m==\u001b[39m \u001b[38;5;241m1\u001b[39m \u001b[38;5;129;01mand\u001b[39;00m\n\u001b[1;32m     91\u001b[0m     saved_model_proto\u001b[38;5;241m.\u001b[39mmeta_graphs[\u001b[38;5;241m0\u001b[39m]\u001b[38;5;241m.\u001b[39mHasField(\u001b[38;5;124m\"\u001b[39m\u001b[38;5;124mobject_graph_def\u001b[39m\u001b[38;5;124m\"\u001b[39m)):\n\u001b[1;32m     92\u001b[0m   meta_graph_def \u001b[38;5;241m=\u001b[39m saved_model_proto\u001b[38;5;241m.\u001b[39mmeta_graphs[\u001b[38;5;241m0\u001b[39m]\n",
      "File \u001b[0;32m~/anaconda3/envs/EnformerCelltyping/lib/python3.9/site-packages/tensorflow/python/saved_model/loader_impl.py:56\u001b[0m, in \u001b[0;36mparse_saved_model_with_debug_info\u001b[0;34m(export_dir)\u001b[0m\n\u001b[1;32m     43\u001b[0m \u001b[38;5;28;01mdef\u001b[39;00m \u001b[38;5;21mparse_saved_model_with_debug_info\u001b[39m(export_dir):\n\u001b[1;32m     44\u001b[0m \u001b[38;5;250m  \u001b[39m\u001b[38;5;124;03m\"\"\"Reads the savedmodel as well as the graph debug info.\u001b[39;00m\n\u001b[1;32m     45\u001b[0m \n\u001b[1;32m     46\u001b[0m \u001b[38;5;124;03m  Args:\u001b[39;00m\n\u001b[0;32m   (...)\u001b[0m\n\u001b[1;32m     54\u001b[0m \u001b[38;5;124;03m    parsed. Missing graph debug info file is fine.\u001b[39;00m\n\u001b[1;32m     55\u001b[0m \u001b[38;5;124;03m  \"\"\"\u001b[39;00m\n\u001b[0;32m---> 56\u001b[0m   saved_model \u001b[38;5;241m=\u001b[39m \u001b[43m_parse_saved_model\u001b[49m\u001b[43m(\u001b[49m\u001b[43mexport_dir\u001b[49m\u001b[43m)\u001b[49m\n\u001b[1;32m     58\u001b[0m   debug_info_path \u001b[38;5;241m=\u001b[39m os\u001b[38;5;241m.\u001b[39mpath\u001b[38;5;241m.\u001b[39mjoin(\n\u001b[1;32m     59\u001b[0m       saved_model_utils\u001b[38;5;241m.\u001b[39mget_debug_dir(export_dir),\n\u001b[1;32m     60\u001b[0m       constants\u001b[38;5;241m.\u001b[39mDEBUG_INFO_FILENAME_PB)\n\u001b[1;32m     61\u001b[0m   debug_info \u001b[38;5;241m=\u001b[39m graph_debug_info_pb2\u001b[38;5;241m.\u001b[39mGraphDebugInfo()\n",
      "File \u001b[0;32m~/anaconda3/envs/EnformerCelltyping/lib/python3.9/site-packages/tensorflow/python/saved_model/loader_impl.py:113\u001b[0m, in \u001b[0;36mparse_saved_model\u001b[0;34m(export_dir)\u001b[0m\n\u001b[1;32m    111\u001b[0m     \u001b[38;5;28;01mraise\u001b[39;00m \u001b[38;5;167;01mIOError\u001b[39;00m(\u001b[38;5;124m\"\u001b[39m\u001b[38;5;124mCannot parse file \u001b[39m\u001b[38;5;132;01m%s\u001b[39;00m\u001b[38;5;124m: \u001b[39m\u001b[38;5;132;01m%s\u001b[39;00m\u001b[38;5;124m.\u001b[39m\u001b[38;5;124m\"\u001b[39m \u001b[38;5;241m%\u001b[39m (path_to_pbtxt, \u001b[38;5;28mstr\u001b[39m(e)))\n\u001b[1;32m    112\u001b[0m \u001b[38;5;28;01melse\u001b[39;00m:\n\u001b[0;32m--> 113\u001b[0m   \u001b[38;5;28;01mraise\u001b[39;00m \u001b[38;5;167;01mIOError\u001b[39;00m(\n\u001b[1;32m    114\u001b[0m       \u001b[38;5;124m\"\u001b[39m\u001b[38;5;124mSavedModel file does not exist at: \u001b[39m\u001b[38;5;132;01m%s\u001b[39;00m\u001b[38;5;132;01m%s\u001b[39;00m\u001b[38;5;124m{\u001b[39m\u001b[38;5;132;01m%s\u001b[39;00m\u001b[38;5;124m|\u001b[39m\u001b[38;5;132;01m%s\u001b[39;00m\u001b[38;5;124m}\u001b[39m\u001b[38;5;124m\"\u001b[39m \u001b[38;5;241m%\u001b[39m\n\u001b[1;32m    115\u001b[0m       (export_dir, os\u001b[38;5;241m.\u001b[39mpath\u001b[38;5;241m.\u001b[39msep, constants\u001b[38;5;241m.\u001b[39mSAVED_MODEL_FILENAME_PBTXT,\n\u001b[1;32m    116\u001b[0m        constants\u001b[38;5;241m.\u001b[39mSAVED_MODEL_FILENAME_PB))\n",
      "\u001b[0;31mOSError\u001b[0m: SavedModel file does not exist at: /home/aemurphy/RDS/project/celltypeai/live/Projects/EnformerCelltyping/data/enformer_model/{saved_model.pbtxt|saved_model.pb}"
     ]
    }
   ],
   "source": [
    "from EnformerCelltyping.constants import DATA_PATH\n",
    "from EnformerCelltyping.utils import create_enf_chopped_model\n",
    "enf = create_enf_chopped_model(str(DATA_PATH / \"enformer_model\"))"
   ]
  },
  {
   "cell_type": "code",
   "execution_count": 2,
   "id": "ad6e0f91",
   "metadata": {},
   "outputs": [
    {
     "name": "stderr",
     "output_type": "stream",
     "text": [
      "2023-02-02 14:49:40.707070: I tensorflow/stream_executor/platform/default/dso_loader.cc:53] Successfully opened dynamic library libcuda.so.1\n",
      "2023-02-02 14:49:40.731594: E tensorflow/stream_executor/cuda/cuda_driver.cc:328] failed call to cuInit: CUDA_ERROR_NO_DEVICE: no CUDA-capable device is detected\n",
      "2023-02-02 14:49:40.731613: I tensorflow/stream_executor/cuda/cuda_diagnostics.cc:156] kernel driver does not appear to be running on this host (workstation-neurogenomics): /proc/driver/nvidia/version does not exist\n",
      "2023-02-02 14:49:40.732144: I tensorflow/core/platform/cpu_feature_guard.cc:142] This TensorFlow binary is optimized with oneAPI Deep Neural Network Library (oneDNN) to use the following CPU instructions in performance-critical operations:  AVX2 FMA\n",
      "To enable them in other operations, rebuild TensorFlow with the appropriate compiler flags.\n"
     ]
    },
    {
     "name": "stdout",
     "output_type": "stream",
     "text": [
      "Model: \"EnfCelltyping\"\n",
      "__________________________________________________________________________________________________\n",
      "Layer (type)                    Output Shape         Param #     Connected to                     \n",
      "==================================================================================================\n",
      "ChromAccessLclInput (InputLayer [(None, 1562)]       0                                            \n",
      "__________________________________________________________________________________________________\n",
      "dnaInput (InputLayer)           [(None, 896, 1536)]  0                                            \n",
      "__________________________________________________________________________________________________\n",
      "tf.clip_by_value (TFOpLambda)   (None, 1562)         0           ChromAccessLclInput[0][0]        \n",
      "__________________________________________________________________________________________________\n",
      "dense1_dna (Dense)              (None, 896, 1536)    2360832     dnaInput[0][0]                   \n",
      "__________________________________________________________________________________________________\n",
      "tf.math.add (TFOpLambda)        (None, 1562)         0           tf.clip_by_value[0][0]           \n",
      "__________________________________________________________________________________________________\n",
      "ChromAccessGblInput (InputLayer [(None, 14592)]      0                                            \n",
      "__________________________________________________________________________________________________\n",
      "dropout1_dna (Dropout)          (None, 896, 1536)    0           dense1_dna[0][0]                 \n",
      "__________________________________________________________________________________________________\n",
      "128bp_embedding (Embedding)     (None, 1562, 25)     39050       tf.math.add[0][0]                \n",
      "__________________________________________________________________________________________________\n",
      "500bp_embedding (Embedding)     (None, 1562, 40)     15640       tf.math.add[0][0]                \n",
      "__________________________________________________________________________________________________\n",
      "5kbp_embedding (Embedding)      (None, 1562, 45)     1800        tf.math.add[0][0]                \n",
      "__________________________________________________________________________________________________\n",
      "gbl_embedding (Embedding)       (None, 14592, 25)    364800      ChromAccessGblInput[0][0]        \n",
      "__________________________________________________________________________________________________\n",
      "batchnorm1_finalpoint (BatchNor (None, 896, 1536)    6144        dropout1_dna[0][0]               \n",
      "__________________________________________________________________________________________________\n",
      "flatten128 (Flatten)            (None, 39050)        0           128bp_embedding[0][0]            \n",
      "__________________________________________________________________________________________________\n",
      "flatten500 (Flatten)            (None, 62480)        0           500bp_embedding[0][0]            \n",
      "__________________________________________________________________________________________________\n",
      "flatten5k (Flatten)             (None, 70290)        0           5kbp_embedding[0][0]             \n",
      "__________________________________________________________________________________________________\n",
      "flattenGbl (Flatten)            (None, 364800)       0           gbl_embedding[0][0]              \n",
      "__________________________________________________________________________________________________\n",
      "tf.math.multiply (TFOpLambda)   (None, 896, 1536)    0           batchnorm1_finalpoint[0][0]      \n",
      "__________________________________________________________________________________________________\n",
      "cat_embed (Concatenate)         (None, 536620)       0           flatten128[0][0]                 \n",
      "                                                                 flatten500[0][0]                 \n",
      "                                                                 flatten5k[0][0]                  \n",
      "                                                                 flattenGbl[0][0]                 \n",
      "__________________________________________________________________________________________________\n",
      "tf.math.sigmoid (TFOpLambda)    (None, 896, 1536)    0           tf.math.multiply[0][0]           \n",
      "__________________________________________________________________________________________________\n",
      "dense_combn1_celltype (Dense)   (None, 3072)         1648499712  cat_embed[0][0]                  \n",
      "__________________________________________________________________________________________________\n",
      "tf.math.multiply_1 (TFOpLambda) (None, 896, 1536)    0           tf.math.sigmoid[0][0]            \n",
      "                                                                 batchnorm1_finalpoint[0][0]      \n",
      "__________________________________________________________________________________________________\n",
      "dropout1_celltype (Dropout)     (None, 3072)         0           dense_combn1_celltype[0][0]      \n",
      "__________________________________________________________________________________________________\n",
      "conv1d1_finalpoint (Conv1D)     (None, 896, 3072)    4721664     tf.math.multiply_1[0][0]         \n",
      "__________________________________________________________________________________________________\n",
      "dense_combn2_celltype (Dense)   (None, 3072)         9440256     dropout1_celltype[0][0]          \n",
      "__________________________________________________________________________________________________\n",
      "dropout1_finalpoint (Dropout)   (None, 896, 3072)    0           conv1d1_finalpoint[0][0]         \n",
      "__________________________________________________________________________________________________\n",
      "dropout2_celltype (Dropout)     (None, 3072)         0           dense_combn2_celltype[0][0]      \n",
      "__________________________________________________________________________________________________\n",
      "tf.math.multiply_2 (TFOpLambda) (None, 896, 3072)    0           dropout1_finalpoint[0][0]        \n",
      "__________________________________________________________________________________________________\n",
      "dense_chan_celltype_1 (Dense)   (None, 896)          2753408     dropout2_celltype[0][0]          \n",
      "__________________________________________________________________________________________________\n",
      "dense_chan_celltype_2 (Dense)   (None, 896)          2753408     dropout2_celltype[0][0]          \n",
      "__________________________________________________________________________________________________\n",
      "dense_chan_celltype_3 (Dense)   (None, 896)          2753408     dropout2_celltype[0][0]          \n",
      "__________________________________________________________________________________________________\n",
      "dense_chan_celltype_4 (Dense)   (None, 896)          2753408     dropout2_celltype[0][0]          \n",
      "__________________________________________________________________________________________________\n",
      "dense_chan_celltype_5 (Dense)   (None, 896)          2753408     dropout2_celltype[0][0]          \n",
      "__________________________________________________________________________________________________\n",
      "dense_chan_celltype_6 (Dense)   (None, 896)          2753408     dropout2_celltype[0][0]          \n",
      "__________________________________________________________________________________________________\n",
      "tf.math.sigmoid_1 (TFOpLambda)  (None, 896, 3072)    0           tf.math.multiply_2[0][0]         \n",
      "__________________________________________________________________________________________________\n",
      "dropout_chan_celltype_1 (Dropou (None, 896)          0           dense_chan_celltype_1[0][0]      \n",
      "__________________________________________________________________________________________________\n",
      "dropout_chan_celltype_2 (Dropou (None, 896)          0           dense_chan_celltype_2[0][0]      \n",
      "__________________________________________________________________________________________________\n",
      "dropout_chan_celltype_3 (Dropou (None, 896)          0           dense_chan_celltype_3[0][0]      \n",
      "__________________________________________________________________________________________________\n",
      "dropout_chan_celltype_4 (Dropou (None, 896)          0           dense_chan_celltype_4[0][0]      \n",
      "__________________________________________________________________________________________________\n",
      "dropout_chan_celltype_5 (Dropou (None, 896)          0           dense_chan_celltype_5[0][0]      \n",
      "__________________________________________________________________________________________________\n",
      "dropout_chan_celltype_6 (Dropou (None, 896)          0           dense_chan_celltype_6[0][0]      \n",
      "__________________________________________________________________________________________________\n",
      "tf.math.multiply_3 (TFOpLambda) (None, 896, 3072)    0           tf.math.sigmoid_1[0][0]          \n",
      "                                                                 dropout1_finalpoint[0][0]        \n",
      "__________________________________________________________________________________________________\n",
      "tf.expand_dims (TFOpLambda)     (None, 896, 1)       0           dropout_chan_celltype_1[0][0]    \n",
      "__________________________________________________________________________________________________\n",
      "tf.expand_dims_1 (TFOpLambda)   (None, 896, 1)       0           dropout_chan_celltype_2[0][0]    \n",
      "__________________________________________________________________________________________________\n",
      "tf.expand_dims_2 (TFOpLambda)   (None, 896, 1)       0           dropout_chan_celltype_3[0][0]    \n",
      "__________________________________________________________________________________________________\n",
      "tf.expand_dims_3 (TFOpLambda)   (None, 896, 1)       0           dropout_chan_celltype_4[0][0]    \n",
      "__________________________________________________________________________________________________\n",
      "tf.expand_dims_4 (TFOpLambda)   (None, 896, 1)       0           dropout_chan_celltype_5[0][0]    \n",
      "__________________________________________________________________________________________________\n",
      "tf.expand_dims_5 (TFOpLambda)   (None, 896, 1)       0           dropout_chan_celltype_6[0][0]    \n",
      "__________________________________________________________________________________________________\n",
      "avg (Dense)                     (None, 896, 6)       18438       tf.math.multiply_3[0][0]         \n",
      "__________________________________________________________________________________________________\n",
      "delta (Concatenate)             (None, 896, 6)       0           tf.expand_dims[0][0]             \n",
      "                                                                 tf.expand_dims_1[0][0]           \n",
      "                                                                 tf.expand_dims_2[0][0]           \n",
      "                                                                 tf.expand_dims_3[0][0]           \n",
      "                                                                 tf.expand_dims_4[0][0]           \n",
      "                                                                 tf.expand_dims_5[0][0]           \n",
      "==================================================================================================\n",
      "Total params: 1,681,988,784\n",
      "Trainable params: 1,681,985,712\n",
      "Non-trainable params: 3,072\n",
      "__________________________________________________________________________________________________\n"
     ]
    }
   ],
   "source": [
    "#create Enformer Celltyping - for training\n",
    "from EnformerCelltyping.enf_celltyping import Enformer_Celltyping\n",
    "from EnformerCelltyping.utils import pearsonR\n",
    "\n",
    "assays = ['h3k27ac', 'h3k4me1', 'h3k4me3', 'h3k9me3', 'h3k27me3', 'h3k36me3']\n",
    "learning_rate = 0.0002\n",
    "\n",
    "#Using all the model default parameters for the architecture\n",
    "#Set use_prebuilt_model to False since we want to train \n",
    "#Enformer Celltyping from scratch\n",
    "model = Enformer_Celltyping(assays=assays,\n",
    "                            use_prebuilt_model=False)\n",
    "#compile the model, the model is separated into 2 channels: \n",
    "# 1. DNA channel which predicts an average histone mark score across\n",
    "#    all trainig cell types\n",
    "# 2. Chromatin accessibility channel which predicts the delta between\n",
    "#    the average histone mark value for that region and the cell type-\n",
    "#    specific one.\n",
    "# Thus there are 2 loss functions\n",
    "model.compile(optimizer=tf.keras.optimizers.Adam(learning_rate=learning_rate),\n",
    "          loss={'avg':tf.keras.losses.poisson,\n",
    "                'delta':tf.keras.losses.mean_squared_error},\n",
    "          metrics=['mse',pearsonR])\n",
    "\n",
    "#Let's view the model\n",
    "model.summary()"
   ]
  },
  {
   "cell_type": "markdown",
   "id": "74e1823c",
   "metadata": {},
   "source": [
    "This model summary does not include the layers of enformer since the DNA for the demo regions\n",
    "has already been passed through the pre-trained enformer model. Since the layers are frozen \n",
    "these weights will not update so we can save on compute time and RAM by pre-running it. If\n",
    "you want to build a version of Enformer Celltyping with the enformer layers run:\n",
    "\n",
    "```\n",
    "\n",
    "```"
   ]
  },
  {
   "cell_type": "code",
   "execution_count": 3,
   "id": "32173d4f",
   "metadata": {},
   "outputs": [
    {
     "ename": "KeyError",
     "evalue": "'h3k27ac is not a file in the archive'",
     "output_type": "error",
     "traceback": [
      "\u001b[0;31m---------------------------------------------------------------------------\u001b[0m",
      "\u001b[0;31mKeyError\u001b[0m                                  Traceback (most recent call last)",
      "Cell \u001b[0;32mIn[3], line 3\u001b[0m\n\u001b[1;32m      1\u001b[0m \u001b[38;5;28;01mimport\u001b[39;00m \u001b[38;5;21;01mnumpy\u001b[39;00m \u001b[38;5;28;01mas\u001b[39;00m \u001b[38;5;21;01mnp\u001b[39;00m\n\u001b[1;32m      2\u001b[0m a \u001b[38;5;241m=\u001b[39m np\u001b[38;5;241m.\u001b[39mload(\u001b[38;5;124m\"\u001b[39m\u001b[38;5;124m/home/aemurphy/data/model_ref/avg_atac_128.npz\u001b[39m\u001b[38;5;124m\"\u001b[39m)\n\u001b[0;32m----> 3\u001b[0m \u001b[43ma\u001b[49m\u001b[43m[\u001b[49m\u001b[38;5;124;43m'\u001b[39;49m\u001b[38;5;124;43mh3k27ac\u001b[39;49m\u001b[38;5;124;43m'\u001b[39;49m\u001b[43m]\u001b[49m\n",
      "File \u001b[0;32m~/anaconda3/envs/EnformerCelltyping/lib/python3.9/site-packages/numpy/lib/npyio.py:259\u001b[0m, in \u001b[0;36mNpzFile.__getitem__\u001b[0;34m(self, key)\u001b[0m\n\u001b[1;32m    257\u001b[0m         \u001b[38;5;28;01mreturn\u001b[39;00m \u001b[38;5;28mself\u001b[39m\u001b[38;5;241m.\u001b[39mzip\u001b[38;5;241m.\u001b[39mread(key)\n\u001b[1;32m    258\u001b[0m \u001b[38;5;28;01melse\u001b[39;00m:\n\u001b[0;32m--> 259\u001b[0m     \u001b[38;5;28;01mraise\u001b[39;00m \u001b[38;5;167;01mKeyError\u001b[39;00m(\u001b[38;5;124m\"\u001b[39m\u001b[38;5;132;01m%s\u001b[39;00m\u001b[38;5;124m is not a file in the archive\u001b[39m\u001b[38;5;124m\"\u001b[39m \u001b[38;5;241m%\u001b[39m key)\n",
      "\u001b[0;31mKeyError\u001b[0m: 'h3k27ac is not a file in the archive'"
     ]
    }
   ],
   "source": [
    "import numpy as np\n",
    "a = np.load(\"/home/aemurphy/data/model_ref/avg_atac_128.npz\")\n",
    "a['h3k27ac']"
   ]
  },
  {
   "cell_type": "code",
   "execution_count": null,
   "id": "725313e1",
   "metadata": {},
   "outputs": [],
   "source": []
  }
 ],
 "metadata": {
  "kernelspec": {
   "display_name": "EnformerCelltyping",
   "language": "python",
   "name": "enformercelltyping"
  },
  "language_info": {
   "codemirror_mode": {
    "name": "ipython",
    "version": 3
   },
   "file_extension": ".py",
   "mimetype": "text/x-python",
   "name": "python",
   "nbconvert_exporter": "python",
   "pygments_lexer": "ipython3",
   "version": "3.9.16"
  }
 },
 "nbformat": 4,
 "nbformat_minor": 5
}
