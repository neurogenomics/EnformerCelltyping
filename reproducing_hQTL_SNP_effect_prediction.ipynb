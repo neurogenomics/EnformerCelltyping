{
 "cells": [
  {
   "cell_type": "markdown",
   "id": "bc64fe9c",
   "metadata": {},
   "source": [
    "* preprocessing hQTL datasets\n",
    "* precomputing reference and alternative DNA embeddings for SNPs\n",
    "* running with checkpoints - forward, reverse, random order"
   ]
  }
 ],
 "metadata": {
  "kernelspec": {
   "display_name": "EnformerCelltyping",
   "language": "python",
   "name": "enformercelltyping"
  },
  "language_info": {
   "codemirror_mode": {
    "name": "ipython",
    "version": 3
   },
   "file_extension": ".py",
   "mimetype": "text/x-python",
   "name": "python",
   "nbconvert_exporter": "python",
   "pygments_lexer": "ipython3",
   "version": "3.9.16"
  }
 },
 "nbformat": 4,
 "nbformat_minor": 5
}
